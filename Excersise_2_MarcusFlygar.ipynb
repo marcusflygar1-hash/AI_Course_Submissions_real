{
  "nbformat": 4,
  "nbformat_minor": 0,
  "metadata": {
    "colab": {
      "provenance": [],
      "authorship_tag": "ABX9TyOerPUfyVyONldIe8ujFLbe",
      "include_colab_link": true
    },
    "kernelspec": {
      "name": "python3",
      "display_name": "Python 3"
    },
    "language_info": {
      "name": "python"
    }
  },
  "cells": [
    {
      "cell_type": "markdown",
      "metadata": {
        "id": "view-in-github",
        "colab_type": "text"
      },
      "source": [
        "<a href=\"https://colab.research.google.com/github/marcusflygar1-hash/AI_Course_Submissions_real/blob/main/Excersise_2_MarcusFlygar.ipynb\" target=\"_parent\"><img src=\"https://colab.research.google.com/assets/colab-badge.svg\" alt=\"Open In Colab\"/></a>"
      ]
    },
    {
      "cell_type": "code",
      "execution_count": null,
      "metadata": {
        "id": "dbV-mF9RZDUu"
      },
      "outputs": [],
      "source": [
        "import xgboost as xgb\n",
        "import pandas as pd\n",
        "import numpy as np\n",
        "from sklearn.model_selection import train_test_split\n",
        "from sklearn.linear_model import LinearRegression\n",
        "import seaborn as sn\n",
        "import matplotlib.pyplot as plt"
      ]
    },
    {
      "cell_type": "code",
      "source": [
        "url = 'https://raw.githubusercontent.com/zhenliangma/Applied-AI-in-Transportation/master/Exercise_2_regression_model/Exercise2BusData.csv'\n",
        "df = pd.read_csv(url)\n",
        "df.head(10)"
      ],
      "metadata": {
        "id": "usc1WmIJZjqz"
      },
      "execution_count": null,
      "outputs": []
    },
    {
      "cell_type": "code",
      "source": [
        "df = df.drop(['Arrival_time', 'Stop_id','Bus_id','Line_id'], axis=1)\n",
        "df.head(10)"
      ],
      "metadata": {
        "id": "IssWkexAZz7U"
      },
      "execution_count": null,
      "outputs": []
    },
    {
      "cell_type": "code",
      "source": [
        "df.shape\n"
      ],
      "metadata": {
        "id": "YHih_wQQboOV"
      },
      "execution_count": null,
      "outputs": []
    },
    {
      "cell_type": "code",
      "source": [
        "df.info()"
      ],
      "metadata": {
        "id": "LDF4lSGvb_Jv"
      },
      "execution_count": null,
      "outputs": []
    },
    {
      "cell_type": "code",
      "source": [
        "corr_matrix = df.corr() #Creates a correlation matrix\n",
        "corr_matrix['Arrival_delay'].sort_values(ascending=False) #The correlation matrix focuses on the correlation between the remaining columns to Arrival Delay"
      ],
      "metadata": {
        "id": "C5E8mNOLcELt"
      },
      "execution_count": null,
      "outputs": []
    },
    {
      "cell_type": "markdown",
      "source": [
        "As we can see the upstream stop delay is heavily correlated to the arrival delay, however this is not true for the remaining independent variables."
      ],
      "metadata": {
        "id": "wZUmcdbHfH47"
      }
    },
    {
      "cell_type": "code",
      "source": [
        "x = df.drop('Arrival_delay', axis=1)\n",
        "y = df['Arrival_delay']\n",
        "X_train, X_test, y_train, y_test = train_test_split(x,y, test_size=0.2, random_state=42)"
      ],
      "metadata": {
        "id": "LsSVaIfQezn2"
      },
      "execution_count": null,
      "outputs": []
    },
    {
      "cell_type": "markdown",
      "source": [
        "The reason as to why we set the test_size = 0,2 is that this will devide the model into 80% training data and 20% of the data to test this on."
      ],
      "metadata": {
        "id": "GEWNZ8Hef2If"
      }
    },
    {
      "cell_type": "code",
      "source": [
        "from sklearn.linear_model import LinearRegression\n",
        "lin_reg = LinearRegression()\n",
        "lin_reg.fit(X_train, y_train)\n",
        "y_pred = lin_reg.predict(X_test)"
      ],
      "metadata": {
        "id": "AAbB17e7gBF1"
      },
      "execution_count": null,
      "outputs": []
    },
    {
      "cell_type": "markdown",
      "source": [
        "Now we have trained and tested the data set, now we will evaluate the model and see if it performs well."
      ],
      "metadata": {
        "id": "gJaDyaFAgXjI"
      }
    },
    {
      "cell_type": "code",
      "source": [
        "from sklearn.metrics import mean_absolute_error, mean_squared_error, root_mean_squared_error, r2_score\n",
        "lin_mse = mean_squared_error(y_test, y_pred)\n",
        "lin_mae = mean_absolute_error(y_test, y_pred)\n",
        "lin_rmse = root_mean_squared_error(y_test, y_pred)\n",
        "lin_r2 = r2_score(y_test, y_pred)\n",
        "print(f\"Mean Squared Error: {lin_mse}\")\n",
        "print(f\"Mean Absolute Error: {lin_mae}\")\n",
        "print(f\"Root Mean Squared Error: {lin_rmse}\")\n",
        "print(f\"R2 Score: {lin_r2}\")"
      ],
      "metadata": {
        "id": "vL3uhh8PgL4n"
      },
      "execution_count": null,
      "outputs": []
    },
    {
      "cell_type": "code",
      "source": [
        "plt.figure(figsize=(8, 6))\n",
        "plt.scatter(y_test, y_pred, alpha=0.5)  # Plot actual vs. predicted values\n",
        "\n",
        "# Add labels and title\n",
        "plt.xlabel(\"Actual Values\")\n",
        "plt.ylabel(\"Predicted Values\")\n",
        "plt.title(\"Actual vs. Predicted Values\")\n",
        "\n",
        "# Add a diagonal line for reference (perfect predictions)\n",
        "plt.plot([min(y_test), max(y_test)], [min(y_test), max(y_test)], linestyle='--', color='red', lw=2)\n",
        "\n",
        "# Show the plot\n",
        "plt.show()"
      ],
      "metadata": {
        "id": "dOUBpnfQwqRZ"
      },
      "execution_count": null,
      "outputs": []
    },
    {
      "cell_type": "markdown",
      "source": [
        "Now that we have performed a Linear regression together with training and test data and evaluated it. It is time to perform a linear regression witht the XgBoost package.  "
      ],
      "metadata": {
        "id": "sOnRHV3sls53"
      }
    },
    {
      "cell_type": "code",
      "source": [
        "from xgboost import XGBRegressor\n",
        "xgb_reg = XGBRegressor()\n",
        "xgb_reg.fit(X_train, y_train)"
      ],
      "metadata": {
        "id": "ulrb-PWDgW0e"
      },
      "execution_count": null,
      "outputs": []
    },
    {
      "cell_type": "code",
      "source": [
        "#Setting upp the features and labels into a Dmatrix so XGBoost can read it\n",
        "#(Maybe idk, but I read that you should do this)\n",
        "dtrain = xgb.DMatrix(X_train, label=y_train)\n",
        "dtest = xgb.DMatrix(X_test, label=y_test)"
      ],
      "metadata": {
        "id": "iWalZy4GmB_G"
      },
      "execution_count": null,
      "outputs": []
    },
    {
      "cell_type": "code",
      "source": [
        "# Setting the booster parameters, these are just generic, I might play around\n",
        "# with them later and if needed\n",
        "param_xg = {'max_depth':5,\n",
        "            'eta':0.1,\n",
        "            'objective': 'reg:squarederror',\n",
        "            'seed': 42}\n",
        "###\n",
        "param_xg['nthread'] = 4\n",
        "######\n",
        "param_xg['eval_metric'] = 'auc'\n"
      ],
      "metadata": {
        "id": "MnkA58I72TVW"
      },
      "execution_count": null,
      "outputs": []
    },
    {
      "cell_type": "code",
      "source": [
        "evallist = [(dtrain, 'train'), (dtest, 'eval')]"
      ],
      "metadata": {
        "id": "WlTQnXn92vXc"
      },
      "execution_count": null,
      "outputs": []
    },
    {
      "cell_type": "code",
      "source": [
        "#Here I set upp the training and saving the model.\n",
        "# This so I can evaluate it later\n",
        "num_round = 10\n",
        "bst = xgb.train(param_xg, dtrain, num_round, evallist)\n",
        "bst.save_model('xgboost_model.model')"
      ],
      "metadata": {
        "id": "5x2aHIed3ICy"
      },
      "execution_count": null,
      "outputs": []
    },
    {
      "cell_type": "code",
      "source": [
        "dtest = xgb.DMatrix(X_test)\n",
        "y_pred_xgb = bst.predict(dtest)"
      ],
      "metadata": {
        "id": "CzUXkKLj3jhy"
      },
      "execution_count": null,
      "outputs": []
    },
    {
      "cell_type": "code",
      "source": [],
      "metadata": {
        "id": "01vKrgEz47Ix"
      },
      "execution_count": null,
      "outputs": []
    }
  ]
}